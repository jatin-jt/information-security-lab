{
 "cells": [
  {
   "cell_type": "markdown",
   "metadata": {},
   "source": [
    "### AIM: To implement Hill cipher Encryption-Decryption."
   ]
  },
  {
   "cell_type": "code",
   "execution_count": 1,
   "metadata": {
    "collapsed": true
   },
   "outputs": [],
   "source": [
    "import numpy as np\n"
   ]
  },
  {
   "cell_type": "code",
   "execution_count": 2,
   "metadata": {
    "collapsed": true
   },
   "outputs": [],
   "source": [
    "def generate_key(A,n):\n",
    "    idx = 0\n",
    "    k = np.matrix(np.random.rand(n, n))\n",
    "    for i in range(n):\n",
    "        for j in range(n):\n",
    "            k[i,j] = ord(A[idx]) - 97\n",
    "            idx+=1\n",
    "    return k"
   ]
  },
  {
   "cell_type": "code",
   "execution_count": 3,
   "metadata": {
    "collapsed": true
   },
   "outputs": [],
   "source": [
    "def get_inv_key(k,n):\n",
    "    inv_k = k.getI()\n",
    "    x = np.linalg.det(k)\n",
    "    inv_k = inv_k*x\n",
    "    a = imod(x,26)\n",
    "    for i in range(n):\n",
    "        for j in range(n):\n",
    "            inv_k[i,j] = (inv_k[i,j]*a)%26\n",
    "    return inv_k"
   ]
  },
  {
   "cell_type": "code",
   "execution_count": 4,
   "metadata": {
    "collapsed": true
   },
   "outputs": [],
   "source": [
    "def imod(a, n):\n",
    "    c = 1\n",
    "    while (c % a > 0):\n",
    "        c += n\n",
    "    return c // a"
   ]
  },
  {
   "cell_type": "code",
   "execution_count": 5,
   "metadata": {
    "collapsed": true
   },
   "outputs": [],
   "source": [
    "def mul(pt,key,n):\n",
    "    idx = 0\n",
    "    ct_mat = np.matrix(np.zeros((int(((len(pt)-1)/n)) + 1,n)))\n",
    "    pt_mat = np.matrix(np.zeros((int((len(pt)-1)/n) + 1,n)))\n",
    "    if(len(pt)%n!=0):\n",
    "        for i in range(len(pt)%n,n):\n",
    "            print('lol')\n",
    "            pt+='z'\n",
    "    for i in range(pt_mat.shape[0]):\n",
    "        for j in range(pt_mat.shape[1]):\n",
    "            pt_mat[i,j] = ord(pt[idx]) - 97\n",
    "            idx+=1\n",
    "\n",
    "    ct_mat = np.dot(pt_mat,key)\n",
    "    ct = ''\n",
    "    for i in range(ct_mat.shape[0]):\n",
    "        for j in range(ct_mat.shape[1]):\n",
    "            ct+=chr(97+(int(round(ct_mat[i,j]))%26))\n",
    "    return ct"
   ]
  },
  {
   "cell_type": "code",
   "execution_count": 6,
   "metadata": {},
   "outputs": [
    {
     "name": "stdout",
     "output_type": "stream",
     "text": [
      "qrt\n",
      "act\n"
     ]
    }
   ],
   "source": [
    "key = 'gybnqkurp'\n",
    "plaintext = 'act'\n",
    "key_mat = generate_key(key,3)\n",
    "#print(key_mat)\n",
    "ciphertext = mul(plaintext,key_mat,3)\n",
    "print(ciphertext)\n",
    "inv_key_mat = get_inv_key(key_mat,3)\n",
    "#print(inv_key_mat)\n",
    "print(mul(ciphertext,inv_key_mat,3))"
   ]
  }
 ],
 "metadata": {
  "kernelspec": {
   "display_name": "Python 3",
   "language": "python",
   "name": "python3"
  },
  "language_info": {
   "codemirror_mode": {
    "name": "ipython",
    "version": 3
   },
   "file_extension": ".py",
   "mimetype": "text/x-python",
   "name": "python",
   "nbconvert_exporter": "python",
   "pygments_lexer": "ipython3",
   "version": "3.5.2"
  }
 },
 "nbformat": 4,
 "nbformat_minor": 2
}
